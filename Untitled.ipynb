{
 "cells": [
  {
   "cell_type": "markdown",
   "id": "standing-landing",
   "metadata": {},
   "source": [
    "# Anaconda"
   ]
  },
  {
   "cell_type": "code",
   "execution_count": null,
   "id": "valid-keeping",
   "metadata": {},
   "outputs": [],
   "source": [
    "HPP:\n",
    "    1. sklearn\n",
    "    2. matplotlib\n",
    "    3. seaborn\n",
    "    4. pandas\n",
    "    5. numpy\n",
    "    \n",
    "hpp_conda_env.yml\n",
    "    \n",
    "python 3.5\n",
    "python 3.9\n",
    "\n",
    "IMage Classification:\n",
    "    1. tensorflow  1.14 ,\n",
    "    tensorflow 2.4.1\n",
    "    2. pandas\n",
    "    3. numpy\n",
    "    "
   ]
  },
  {
   "cell_type": "markdown",
   "id": "direct-techno",
   "metadata": {},
   "source": [
    "# Anaconda Commands"
   ]
  },
  {
   "cell_type": "markdown",
   "id": "wrapped-efficiency",
   "metadata": {},
   "source": [
    "## 1. Create Conda env\n"
   ]
  },
  {
   "cell_type": "code",
   "execution_count": null,
   "id": "atmospheric-samba",
   "metadata": {},
   "outputs": [],
   "source": [
    "conda create -n env_name\n",
    "conda create -n env_name python=3.8.x\n",
    "conda env create -f env_file.yml"
   ]
  },
  {
   "cell_type": "markdown",
   "id": "driving-static",
   "metadata": {},
   "source": [
    "## 2. Activate Conda env"
   ]
  },
  {
   "cell_type": "raw",
   "id": "bizarre-orbit",
   "metadata": {},
   "source": [
    "conda activate env_name"
   ]
  },
  {
   "cell_type": "markdown",
   "id": "premium-hungarian",
   "metadata": {},
   "source": [
    "## 3. Deactivate Conda env"
   ]
  },
  {
   "cell_type": "code",
   "execution_count": null,
   "id": "funded-credits",
   "metadata": {},
   "outputs": [],
   "source": [
    "conda deactivate env_name\n",
    "conda deactivate"
   ]
  },
  {
   "cell_type": "markdown",
   "id": "fitted-awareness",
   "metadata": {},
   "source": [
    "## 4.  Install Python Libraries"
   ]
  },
  {
   "cell_type": "raw",
   "id": "minor-defense",
   "metadata": {},
   "source": [
    "conda install -c anaconda pandas"
   ]
  },
  {
   "cell_type": "markdown",
   "id": "celtic-freight",
   "metadata": {},
   "source": [
    "# 5. Create conda env file"
   ]
  },
  {
   "cell_type": "raw",
   "id": "fifth-snapshot",
   "metadata": {},
   "source": [
    "conda env export > house_price.yml"
   ]
  },
  {
   "cell_type": "markdown",
   "id": "practical-reverse",
   "metadata": {},
   "source": [
    "# 6. Create conda env using yml file"
   ]
  },
  {
   "cell_type": "raw",
   "id": "fixed-desire",
   "metadata": {},
   "source": [
    "conda env create -f env_file.yml"
   ]
  },
  {
   "cell_type": "markdown",
   "id": "tracked-essex",
   "metadata": {},
   "source": [
    "# 7. List of conda env"
   ]
  },
  {
   "cell_type": "code",
   "execution_count": null,
   "id": "latter-saint",
   "metadata": {},
   "outputs": [],
   "source": [
    "1. conda env list\n",
    "2. conda info -a\n",
    "3. conda info --envs"
   ]
  },
  {
   "cell_type": "markdown",
   "id": "clean-guest",
   "metadata": {},
   "source": [
    "# 8. Delete conda env"
   ]
  },
  {
   "cell_type": "code",
   "execution_count": null,
   "id": "devoted-windsor",
   "metadata": {},
   "outputs": [],
   "source": [
    "conda env remove -n env_name"
   ]
  }
 ],
 "metadata": {
  "kernelspec": {
   "display_name": "Python 3",
   "language": "python",
   "name": "python3"
  },
  "language_info": {
   "codemirror_mode": {
    "name": "ipython",
    "version": 3
   },
   "file_extension": ".py",
   "mimetype": "text/x-python",
   "name": "python",
   "nbconvert_exporter": "python",
   "pygments_lexer": "ipython3",
   "version": "3.8.7"
  }
 },
 "nbformat": 4,
 "nbformat_minor": 5
}
